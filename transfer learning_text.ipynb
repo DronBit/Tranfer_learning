{
 "cells": [
  {
   "cell_type": "markdown",
   "id": "64acc7fb-59de-4ebc-b82f-afb53cc852d2",
   "metadata": {},
   "source": [
    "# Imports"
   ]
  },
  {
   "cell_type": "code",
   "execution_count": 1,
   "id": "3379e5ef-2708-48c0-a8ed-95eda57a8aea",
   "metadata": {},
   "outputs": [
    {
     "name": "stderr",
     "output_type": "stream",
     "text": [
      "2024-11-20 22:18:54.197709: I tensorflow/core/util/port.cc:113] oneDNN custom operations are on. You may see slightly different numerical results due to floating-point round-off errors from different computation orders. To turn them off, set the environment variable `TF_ENABLE_ONEDNN_OPTS=0`.\n",
      "2024-11-20 22:18:54.335193: I tensorflow/core/platform/cpu_feature_guard.cc:210] This TensorFlow binary is optimized to use available CPU instructions in performance-critical operations.\n",
      "To enable the following instructions: AVX2 AVX_VNNI FMA, in other operations, rebuild TensorFlow with the appropriate compiler flags.\n",
      "2024-11-20 22:18:55.200838: W tensorflow/compiler/tf2tensorrt/utils/py_utils.cc:38] TF-TRT Warning: Could not find TensorRT\n"
     ]
    }
   ],
   "source": [
    "import datasets\n",
    "import numpy as np\n",
    "import pandas as pd\n",
    "import keras\n",
    "import transformers\n",
    "import tensorflow as tf\n",
    "import tqdm.notebook as tqdm\n",
    "import sklearn.model_selection\n",
    "import matplotlib.pyplot as plt"
   ]
  },
  {
   "cell_type": "code",
   "execution_count": 2,
   "id": "71c46935-79f8-4a29-969e-788861cbff8e",
   "metadata": {},
   "outputs": [
    {
     "name": "stderr",
     "output_type": "stream",
     "text": [
      "2024-11-20 22:19:00.477772: I external/local_xla/xla/stream_executor/cuda/cuda_executor.cc:984] could not open file to read NUMA node: /sys/bus/pci/devices/0000:01:00.0/numa_node\n",
      "Your kernel may have been built without NUMA support.\n",
      "2024-11-20 22:19:00.482753: I external/local_xla/xla/stream_executor/cuda/cuda_executor.cc:984] could not open file to read NUMA node: /sys/bus/pci/devices/0000:01:00.0/numa_node\n",
      "Your kernel may have been built without NUMA support.\n",
      "2024-11-20 22:19:00.482785: I external/local_xla/xla/stream_executor/cuda/cuda_executor.cc:984] could not open file to read NUMA node: /sys/bus/pci/devices/0000:01:00.0/numa_node\n",
      "Your kernel may have been built without NUMA support.\n"
     ]
    }
   ],
   "source": [
    "gpus = tf.config.list_physical_devices('GPU')\n",
    "if gpus:\n",
    "    try:\n",
    "        tf.config.experimental.set_memory_growth(gpus[0], True)\n",
    "    except:\n",
    "        print('e')"
   ]
  },
  {
   "cell_type": "code",
   "execution_count": 3,
   "id": "439dcb6b-ba58-4a5c-8052-e6e2d5501021",
   "metadata": {},
   "outputs": [
    {
     "data": {
      "text/plain": [
       "'2.16.1'"
      ]
     },
     "execution_count": 3,
     "metadata": {},
     "output_type": "execute_result"
    }
   ],
   "source": [
    "tf.__version__"
   ]
  },
  {
   "cell_type": "code",
   "execution_count": 4,
   "id": "0159e841-17bf-4140-a19e-6fb65e26832a",
   "metadata": {},
   "outputs": [],
   "source": [
    "BATCH_SIZE = 128\n",
    "max_len_pad = 16"
   ]
  },
  {
   "cell_type": "markdown",
   "id": "3588f5af-a33c-4638-90d8-5cb912535790",
   "metadata": {},
   "source": [
    "# Data"
   ]
  },
  {
   "cell_type": "markdown",
   "id": "c468a19b-1395-4afc-b0c5-a799160ea671",
   "metadata": {},
   "source": [
    "Load and prepare your dataset. Dataset should have at least 10k samples in it. Each dataset cannot be used by more than two students."
   ]
  },
  {
   "cell_type": "code",
   "execution_count": null,
   "id": "27724773-5172-4a0f-87ab-6878341a7ab9",
   "metadata": {},
   "outputs": [],
   "source": [
    "dataset = datasets.load_dataset('stanfordnlp/sst2')"
   ]
  },
  {
   "cell_type": "code",
   "execution_count": null,
   "id": "41027e55-f9e7-441c-82df-917175bc0232",
   "metadata": {},
   "outputs": [],
   "source": [
    "dataset"
   ]
  },
  {
   "cell_type": "code",
   "execution_count": null,
   "id": "c986f0a8-193b-4002-a72b-b756346ce1d3",
   "metadata": {},
   "outputs": [],
   "source": [
    "train_dataset = dataset['train']\n",
    "eval_dataset = dataset['validation']\n",
    "test_dataset = dataset['test']"
   ]
  },
  {
   "cell_type": "code",
   "execution_count": null,
   "id": "c4ee07d3-6cff-48c7-b429-c32035acd8e2",
   "metadata": {},
   "outputs": [],
   "source": [
    "train_dataset.features"
   ]
  },
  {
   "cell_type": "code",
   "execution_count": null,
   "id": "0458cc06-7a19-4cb5-b362-535a6e377ae9",
   "metadata": {
    "scrolled": true
   },
   "outputs": [],
   "source": [
    "train_dataset['sentence']"
   ]
  },
  {
   "cell_type": "code",
   "execution_count": 9,
   "id": "3665a9d8-7ff0-464e-9931-fbdc7835f467",
   "metadata": {},
   "outputs": [
    {
     "data": {
      "image/png": "[encoded data removed]",
      "text/plain": [
       "<Figure size 640x480 with 1 Axes>"
      ]
     },
     "metadata": {},
     "output_type": "display_data"
    }
   ],
   "source": [
    "plt.hist([len(x) for x in train_dataset['sentence']])\n",
    "plt.show()"
   ]
  },
  {
   "cell_type": "markdown",
   "id": "714bddcc-c56d-4e61-9147-054f5d7f8e7e",
   "metadata": {},
   "source": [
    "# Backbone"
   ]
  },
  {
   "cell_type": "markdown",
   "id": "c21a2f49-08a6-479a-8db7-a52d4db40d56",
   "metadata": {},
   "source": [
    "Load pretrained model from Hugging Face (or some other model repository if it's more convenient). Model should be trained on Feature Extraction task."
   ]
  },
  {
   "cell_type": "code",
   "execution_count": 96,
   "id": "03dc2f58-32b7-40a0-96f0-5b7b6816f4b9",
   "metadata": {},
   "outputs": [
    {
     "name": "stderr",
     "output_type": "stream",
     "text": [
      "All model checkpoint layers were used when initializing TFDebertaModel.\n",
      "\n",
      "All the layers of TFDebertaModel were initialized from the model checkpoint at kamalkraj/deberta-base.\n",
      "If your task is similar to the task the model of the checkpoint was trained on, you can already use TFDebertaModel for predictions without further training.\n"
     ]
    }
   ],
   "source": [
    "base_model = transformers.TFAutoModel.from_pretrained('kamalkraj/deberta-base')"
   ]
  },
  {
   "cell_type": "code",
   "execution_count": 97,
   "id": "11fa94fb-ac40-4425-a732-05ac037046f7",
   "metadata": {},
   "outputs": [
    {
     "data": {
      "text/plain": [
       "<transformers.models.deberta.modeling_tf_deberta.TFDebertaModel at 0x7f6d705d5870>"
      ]
     },
     "execution_count": 97,
     "metadata": {},
     "output_type": "execute_result"
    }
   ],
   "source": [
    "base_model"
   ]
  },
  {
   "cell_type": "markdown",
   "id": "4b81337a-c06e-4b33-9dff-61ff0c6858c9",
   "metadata": {},
   "source": [
    "Load tokenizer to be used with the model"
   ]
  },
  {
   "cell_type": "code",
   "execution_count": 98,
   "id": "688da438-e9db-41b9-bb96-37313150f39a",
   "metadata": {},
   "outputs": [],
   "source": [
    "tokenizer = transformers.AutoTokenizer.from_pretrained('kamalkraj/deberta-base')"
   ]
  },
  {
   "cell_type": "code",
   "execution_count": 99,
   "id": "5b499f07-7b2e-4daf-8a55-abdcd2dca2f0",
   "metadata": {},
   "outputs": [
    {
     "data": {
      "text/plain": [
       "DebertaTokenizerFast(name_or_path='kamalkraj/deberta-base', vocab_size=50265, model_max_length=1000000000000000019884624838656, is_fast=True, padding_side='right', truncation_side='right', special_tokens={'bos_token': '[CLS]', 'eos_token': '[SEP]', 'unk_token': '[UNK]', 'sep_token': '[SEP]', 'pad_token': '[PAD]', 'cls_token': '[CLS]', 'mask_token': '[MASK]'}, clean_up_tokenization_spaces=False),  added_tokens_decoder={\n",
       "\t0: AddedToken(\"[PAD]\", rstrip=False, lstrip=False, single_word=False, normalized=False, special=True),\n",
       "\t1: AddedToken(\"[CLS]\", rstrip=False, lstrip=False, single_word=False, normalized=False, special=True),\n",
       "\t2: AddedToken(\"[SEP]\", rstrip=False, lstrip=False, single_word=False, normalized=False, special=True),\n",
       "\t3: AddedToken(\"[UNK]\", rstrip=False, lstrip=False, single_word=False, normalized=False, special=True),\n",
       "\t50264: AddedToken(\"[MASK]\", rstrip=False, lstrip=True, single_word=False, normalized=True, special=True),\n",
       "}"
      ]
     },
     "execution_count": 99,
     "metadata": {},
     "output_type": "execute_result"
    }
   ],
   "source": [
    "tokenizer"
   ]
  },
  {
   "cell_type": "markdown",
   "id": "c045f3c1-faf9-41fc-af88-a4f49c97ac13",
   "metadata": {},
   "source": [
    "# Feature extraction"
   ]
  },
  {
   "cell_type": "markdown",
   "id": "1025d0d6-3b43-440a-8791-27b3e208e415",
   "metadata": {},
   "source": [
    "Since we will not be training the backbone, extract features from your dataset."
   ]
  },
  {
   "cell_type": "markdown",
   "id": "75fb0bf5-6e28-49fa-a0c3-e5b3fd51e7f7",
   "metadata": {},
   "source": [
    "Tokenize all your sequences. Truncate/pad the squences for convenience. If the sequences are too large to be stored in memory, lazily save them on disk."
   ]
  },
  {
   "cell_type": "code",
   "execution_count": 14,
   "id": "2792d0f4-5e0a-47b3-aa93-ea7d6c448dd4",
   "metadata": {},
   "outputs": [],
   "source": [
    "a = tokenizer(train_dataset['sentence'], return_tensors='np')"
   ]
  },
  {
   "cell_type": "code",
   "execution_count": 15,
   "id": "b6a42f78-1693-441c-a07c-6f5079946cb3",
   "metadata": {},
   "outputs": [
    {
     "data": {
      "text/plain": [
       "(11.0, 67)"
      ]
     },
     "execution_count": 15,
     "metadata": {},
     "output_type": "execute_result"
    }
   ],
   "source": [
    "np.median(list(map(len, a['input_ids']))), np.max(list(map(len, a['input_ids'])))"
   ]
  },
  {
   "cell_type": "code",
   "execution_count": 14,
   "id": "e3fcfd80-cfba-45e2-8767-05bd5169b814",
   "metadata": {},
   "outputs": [],
   "source": [
    "def pretokeniaer(dataset):\n",
    "    return tokenizer(dataset['sentence'], truncation=True, padding=True, max_length=max_len_pad, return_tensors='np')"
   ]
  },
  {
   "cell_type": "code",
   "execution_count": 15,
   "id": "66e0e1b1-306d-4fa3-bab1-ca4eb2c8268c",
   "metadata": {},
   "outputs": [
    {
     "data": {
      "application/vnd.jupyter.widget-view+json": {
       "model_id": "2142b9db8c7d4e7294f7ba417a6cbced",
       "version_major": 2,
       "version_minor": 0
      },
      "text/plain": [
       "Map:   0%|          | 0/67349 [00:00<?, ? examples/s]"
      ]
     },
     "metadata": {},
     "output_type": "display_data"
    }
   ],
   "source": [
    "train_tokeniz = train_dataset.map(pretokeniaer, batched=True)"
   ]
  },
  {
   "cell_type": "code",
   "execution_count": null,
   "id": "4c81f850-a0ca-4951-8677-0597aedb21b6",
   "metadata": {
    "scrolled": true
   },
   "outputs": [],
   "source": [
    "train_tokeniz['input_ids']"
   ]
  },
  {
   "cell_type": "code",
   "execution_count": 16,
   "id": "1cba1c44-2493-4299-82ee-a6ea07066448",
   "metadata": {},
   "outputs": [
    {
     "data": {
      "application/vnd.jupyter.widget-view+json": {
       "model_id": "ae4907a8bbfd402cbff720ffa8ff2e80",
       "version_major": 2,
       "version_minor": 0
      },
      "text/plain": [
       "Map:   0%|          | 0/1821 [00:00<?, ? examples/s]"
      ]
     },
     "metadata": {},
     "output_type": "display_data"
    },
    {
     "data": {
      "application/vnd.jupyter.widget-view+json": {
       "model_id": "9c51df35a5ca44148720e1e54af7c05b",
       "version_major": 2,
       "version_minor": 0
      },
      "text/plain": [
       "Map:   0%|          | 0/872 [00:00<?, ? examples/s]"
      ]
     },
     "metadata": {},
     "output_type": "display_data"
    }
   ],
   "source": [
    "test_tokeniz = test_dataset.map(pretokeniaer, batched=True)\n",
    "eval_tokeniz = eval_dataset.map(pretokeniaer, batched=True)"
   ]
  },
  {
   "cell_type": "markdown",
   "id": "4a2b4b64-ee2e-4a2a-8d81-161f8bf1aae4",
   "metadata": {},
   "source": [
    "Run the backbone on the sequences and save the extracted features. The extracted features should be a vector containing information about the whole text. If the features are too large to be stored in memory, lazily save them on disk."
   ]
  },
  {
   "cell_type": "code",
   "execution_count": 17,
   "id": "b9a1c76b-027d-4216-98a1-1f4d00b67086",
   "metadata": {},
   "outputs": [],
   "source": [
    "all_tokeniz = np.concatenate([np.array(train_tokeniz['input_ids']), np.array(eval_tokeniz['input_ids'])], axis=0)"
   ]
  },
  {
   "cell_type": "code",
   "execution_count": 42,
   "id": "f3b8a4e2-141a-4371-85cc-7575e060e623",
   "metadata": {},
   "outputs": [],
   "source": [
    "def extract_features(model, tokenized_input):\n",
    "    input_tensor = tf.constant(tokenized_input, dtype=tf.int32)\n",
    "    \n",
    "    outputs = model(input_tensor)\n",
    "    outputs = keras.ops.max(outputs.last_hidden_state, axis=1)\n",
    "    \n",
    "    return outputs"
   ]
  },
  {
   "cell_type": "code",
   "execution_count": 43,
   "id": "789b41ed-5699-4867-8232-8849dbf2fbbc",
   "metadata": {},
   "outputs": [
    {
     "name": "stdout",
     "output_type": "stream",
     "text": [
      "Размер признаков: (68221, 768)\n"
     ]
    }
   ],
   "source": [
    "all_features = []\n",
    "\n",
    "\n",
    "for i in range(0, len(all_tokeniz), BATCH_SIZE):\n",
    "\n",
    "    batch = all_tokeniz[i:i + BATCH_SIZE]\n",
    "    \n",
    "    features = extract_features(base_model, batch)\n",
    "    \n",
    "    all_features.append(features.numpy())\n",
    "\n",
    "\n",
    "all_features = np.concatenate(all_features, axis=0)\n",
    "\n",
    "print(\"Размер признаков:\", all_features.shape)"
   ]
  },
  {
   "cell_type": "code",
   "execution_count": 44,
   "id": "b4487cb7-dd2b-42d0-a183-9d39b3c64848",
   "metadata": {},
   "outputs": [
    {
     "data": {
      "text/plain": [
       "68221"
      ]
     },
     "execution_count": 44,
     "metadata": {},
     "output_type": "execute_result"
    }
   ],
   "source": [
    "len(all_features)"
   ]
  },
  {
   "cell_type": "code",
   "execution_count": 45,
   "id": "ca12aa8f-d0f4-4cde-9308-0cb4f947f7ac",
   "metadata": {},
   "outputs": [],
   "source": [
    "with open(\"extracted_features2.npy\", 'wb') as f:\n",
    "    np.save(f, all_features)"
   ]
  },
  {
   "cell_type": "markdown",
   "id": "2543fcff-46b0-4c05-b297-c3102f998205",
   "metadata": {},
   "source": [
    "# Prepare train/test data"
   ]
  },
  {
   "cell_type": "markdown",
   "id": "2c985c7d-9123-477e-9988-15ff5a7b26eb",
   "metadata": {},
   "source": [
    "Split your data (extracted features and labels) into train and test subsets."
   ]
  },
  {
   "cell_type": "code",
   "execution_count": 46,
   "id": "e74fce71-d782-4e53-9c0f-32e0228cd4d7",
   "metadata": {},
   "outputs": [],
   "source": [
    "all_labels = np.concatenate([np.array(train_dataset['label']), np.array(eval_dataset['label'])], axis=0)"
   ]
  },
  {
   "cell_type": "code",
   "execution_count": 47,
   "id": "4afdc970-13e4-49b6-b03f-88fb8a886e80",
   "metadata": {},
   "outputs": [],
   "source": [
    "np.save('labels2.npy', all_labels)"
   ]
  },
  {
   "cell_type": "code",
   "execution_count": 6,
   "id": "b760767c-8555-4311-9eba-7632a03073ba",
   "metadata": {},
   "outputs": [],
   "source": [
    "with open(\"extracted_features2.npy\", 'rb') as f:\n",
    "    all_features = np.load(f)"
   ]
  },
  {
   "cell_type": "code",
   "execution_count": 7,
   "id": "c2732552-dc75-4bca-9837-6cef864e733b",
   "metadata": {},
   "outputs": [],
   "source": [
    "all_labels = np.load('labels2.npy')"
   ]
  },
  {
   "cell_type": "code",
   "execution_count": 8,
   "id": "e607c60b-6b20-4c63-819f-3c63c1c7c93b",
   "metadata": {},
   "outputs": [
    {
     "data": {
      "text/plain": [
       "((68221, 768), (68221,))"
      ]
     },
     "execution_count": 8,
     "metadata": {},
     "output_type": "execute_result"
    }
   ],
   "source": [
    "all_features.shape, all_labels.shape"
   ]
  },
  {
   "cell_type": "code",
   "execution_count": 9,
   "id": "5460c05a-f5e7-4935-a6ff-074ca21fa01b",
   "metadata": {},
   "outputs": [
    {
     "data": {
      "text/plain": [
       "((47754, 768), (20467, 768), (47754,), (20467,))"
      ]
     },
     "execution_count": 9,
     "metadata": {},
     "output_type": "execute_result"
    }
   ],
   "source": [
    "X_train, X_val, y_train, y_val = sklearn.model_selection.train_test_split(all_features, all_labels, test_size=0.3, random_state=747, shuffle=True)\n",
    "X_train.shape, X_val.shape, y_train.shape, y_val.shape"
   ]
  },
  {
   "cell_type": "markdown",
   "id": "b1a65639-50d0-4f89-8bfe-33b7a483e406",
   "metadata": {},
   "source": [
    "Prepare `tf.data.Dataset` or some other way for the data to be used during training."
   ]
  },
  {
   "cell_type": "code",
   "execution_count": 10,
   "id": "8d9d9f24-29e2-4368-97bb-69d2250ce0c1",
   "metadata": {},
   "outputs": [
    {
     "name": "stderr",
     "output_type": "stream",
     "text": [
      "2024-11-20 22:20:59.360811: I external/local_xla/xla/stream_executor/cuda/cuda_executor.cc:984] could not open file to read NUMA node: /sys/bus/pci/devices/0000:01:00.0/numa_node\n",
      "Your kernel may have been built without NUMA support.\n",
      "2024-11-20 22:20:59.360975: I external/local_xla/xla/stream_executor/cuda/cuda_executor.cc:984] could not open file to read NUMA node: /sys/bus/pci/devices/0000:01:00.0/numa_node\n",
      "Your kernel may have been built without NUMA support.\n",
      "2024-11-20 22:20:59.360997: I external/local_xla/xla/stream_executor/cuda/cuda_executor.cc:984] could not open file to read NUMA node: /sys/bus/pci/devices/0000:01:00.0/numa_node\n",
      "Your kernel may have been built without NUMA support.\n",
      "2024-11-20 22:20:59.704630: I external/local_xla/xla/stream_executor/cuda/cuda_executor.cc:984] could not open file to read NUMA node: /sys/bus/pci/devices/0000:01:00.0/numa_node\n",
      "Your kernel may have been built without NUMA support.\n",
      "2024-11-20 22:20:59.704730: I external/local_xla/xla/stream_executor/cuda/cuda_executor.cc:984] could not open file to read NUMA node: /sys/bus/pci/devices/0000:01:00.0/numa_node\n",
      "Your kernel may have been built without NUMA support.\n",
      "2024-11-20 22:20:59.704738: I tensorflow/core/common_runtime/gpu/gpu_device.cc:2019] Could not identify NUMA node of platform GPU id 0, defaulting to 0.  Your kernel may not have been built with NUMA support.\n",
      "2024-11-20 22:20:59.704763: I external/local_xla/xla/stream_executor/cuda/cuda_executor.cc:984] could not open file to read NUMA node: /sys/bus/pci/devices/0000:01:00.0/numa_node\n",
      "Your kernel may have been built without NUMA support.\n",
      "2024-11-20 22:20:59.704796: I tensorflow/core/common_runtime/gpu/gpu_device.cc:1928] Created device /job:localhost/replica:0/task:0/device:GPU:0 with 5563 MB memory:  -> device: 0, name: NVIDIA GeForce RTX 4060 Laptop GPU, pci bus id: 0000:01:00.0, compute capability: 8.9\n"
     ]
    }
   ],
   "source": [
    "dataset_train = tf.data.Dataset.zip(tf.data.Dataset.from_tensor_slices(X_train),\n",
    "                                    tf.data.Dataset.from_tensor_slices(y_train)).batch(BATCH_SIZE)"
   ]
  },
  {
   "cell_type": "code",
   "execution_count": 11,
   "id": "5b3d64ac-dccc-43ff-8fa1-82a6a936c521",
   "metadata": {},
   "outputs": [
    {
     "data": {
      "text/plain": [
       "<_BatchDataset element_spec=(TensorSpec(shape=(None, 768), dtype=tf.float32, name=None), TensorSpec(shape=(None,), dtype=tf.int64, name=None))>"
      ]
     },
     "execution_count": 11,
     "metadata": {},
     "output_type": "execute_result"
    }
   ],
   "source": [
    "dataset_train"
   ]
  },
  {
   "cell_type": "code",
   "execution_count": 12,
   "id": "9d7485af-c062-40a0-b2d7-7f62b158a018",
   "metadata": {},
   "outputs": [],
   "source": [
    "X, y = next(iter(dataset_train))"
   ]
  },
  {
   "cell_type": "code",
   "execution_count": 13,
   "id": "a6384219-d313-4422-9de2-f72d645e5557",
   "metadata": {},
   "outputs": [
    {
     "data": {
      "text/plain": [
       "<tf.Tensor: shape=(128, 768), dtype=float32, numpy=\n",
       "array([[1.0978289 , 0.05845261, 0.28679532, ..., 1.3350065 , 0.6543642 ,\n",
       "        1.2030916 ],\n",
       "       [1.0914017 , 1.2294528 , 0.5650454 , ..., 1.2087369 , 1.2807348 ,\n",
       "        1.3382752 ],\n",
       "       [0.8732379 , 1.543327  , 0.4063105 , ..., 1.642583  , 0.50368124,\n",
       "        0.9682008 ],\n",
       "       ...,\n",
       "       [0.58982253, 2.1943233 , 0.40944034, ..., 1.7299528 , 0.21366018,\n",
       "        1.2046604 ],\n",
       "       [1.2787602 , 0.6527308 , 0.4853236 , ..., 2.0593722 , 1.3980544 ,\n",
       "        1.5843303 ],\n",
       "       [1.1280006 , 2.203532  , 0.53642184, ..., 1.5041952 , 0.21455325,\n",
       "        1.2509826 ]], dtype=float32)>"
      ]
     },
     "execution_count": 13,
     "metadata": {},
     "output_type": "execute_result"
    }
   ],
   "source": [
    "X"
   ]
  },
  {
   "cell_type": "code",
   "execution_count": 14,
   "id": "a0354afd-9aff-4f6c-a380-5c13f7fffdd1",
   "metadata": {},
   "outputs": [
    {
     "data": {
      "text/plain": [
       "<tf.Tensor: shape=(128,), dtype=int64, numpy=\n",
       "array([1, 0, 0, 0, 1, 0, 0, 0, 1, 1, 0, 0, 0, 1, 1, 1, 1, 1, 1, 1, 0, 1,\n",
       "       0, 1, 1, 1, 1, 1, 1, 0, 0, 1, 0, 1, 1, 0, 1, 0, 1, 1, 1, 0, 1, 1,\n",
       "       1, 0, 0, 1, 0, 0, 0, 0, 0, 1, 1, 1, 1, 1, 1, 0, 1, 1, 1, 0, 1, 1,\n",
       "       0, 1, 0, 0, 1, 1, 0, 0, 1, 1, 1, 0, 1, 1, 1, 0, 1, 0, 0, 0, 1, 0,\n",
       "       1, 0, 0, 0, 0, 1, 1, 1, 1, 0, 1, 1, 1, 1, 1, 1, 1, 1, 1, 0, 1, 0,\n",
       "       0, 1, 1, 1, 0, 0, 1, 1, 0, 1, 0, 0, 0, 0, 0, 0, 0, 0])>"
      ]
     },
     "execution_count": 14,
     "metadata": {},
     "output_type": "execute_result"
    }
   ],
   "source": [
    "y"
   ]
  },
  {
   "cell_type": "code",
   "execution_count": 15,
   "id": "1de53ca5-f78e-4274-91cb-0368e4a167c3",
   "metadata": {},
   "outputs": [],
   "source": [
    "dataset_val = tf.data.Dataset.zip(tf.data.Dataset.from_tensor_slices(X_val),\n",
    "                                    tf.data.Dataset.from_tensor_slices(y_val)).batch(BATCH_SIZE)"
   ]
  },
  {
   "cell_type": "markdown",
   "id": "e8f74abd-ce1a-4a68-be6c-89b1abd0caa5",
   "metadata": {},
   "source": [
    "# Build the model"
   ]
  },
  {
   "cell_type": "markdown",
   "id": "78885e31-c91e-4ee5-acbf-00a107069da9",
   "metadata": {},
   "source": [
    "Build a simple model. The model should accept an extracted feature vector and return a vector of class logits (or probabilities). Model should only have a couple (or even 1) layer with weights."
   ]
  },
  {
   "cell_type": "code",
   "execution_count": 72,
   "id": "4522f1a0-1555-4dcd-9117-3e975d6f781b",
   "metadata": {},
   "outputs": [],
   "source": [
    "inputs = tf.keras.layers.Input((768,), dtype=tf.float32, name='input')\n",
    "x = tf.keras.layers.Dense(128, activation='relu', name='danse1')(inputs)\n",
    "outputs = tf.keras.layers.Dense(1, activation='sigmoid', name='predict')(x)\n",
    "model = tf.keras.Model(inputs=inputs, outputs=outputs, name='classifier_text')"
   ]
  },
  {
   "cell_type": "code",
   "execution_count": 73,
   "id": "28d9e63f-9a3b-4e13-8320-ed40e887cb57",
   "metadata": {},
   "outputs": [
    {
     "data": {
      "text/html": [
       "<pre style=\"white-space:pre;overflow-x:auto;line-height:normal;font-family:Menlo,'DejaVu Sans Mono',consolas,'Courier New',monospace\"><span style=\"font-weight: bold\">Model: \"classifier_text\"</span>\n",
       "</pre>\n"
      ],
      "text/plain": [
       "\u001b[1mModel: \"classifier_text\"\u001b[0m\n"
      ]
     },
     "metadata": {},
     "output_type": "display_data"
    },
    {
     "data": {
      "text/html": [
       "<pre style=\"white-space:pre;overflow-x:auto;line-height:normal;font-family:Menlo,'DejaVu Sans Mono',consolas,'Courier New',monospace\">┏━━━━━━━━━━━━━━━━━━━━━━━━━━━━━━━━━┳━━━━━━━━━━━━━━━━━━━━━━━━┳━━━━━━━━━━━━━━━┓\n",
       "┃<span style=\"font-weight: bold\"> Layer (type)                    </span>┃<span style=\"font-weight: bold\"> Output Shape           </span>┃<span style=\"font-weight: bold\">       Param # </span>┃\n",
       "┡━━━━━━━━━━━━━━━━━━━━━━━━━━━━━━━━━╇━━━━━━━━━━━━━━━━━━━━━━━━╇━━━━━━━━━━━━━━━┩\n",
       "│ input (<span style=\"color: #0087ff; text-decoration-color: #0087ff\">InputLayer</span>)              │ (<span style=\"color: #00d7ff; text-decoration-color: #00d7ff\">None</span>, <span style=\"color: #00af00; text-decoration-color: #00af00\">768</span>)            │             <span style=\"color: #00af00; text-decoration-color: #00af00\">0</span> │\n",
       "├─────────────────────────────────┼────────────────────────┼───────────────┤\n",
       "│ danse1 (<span style=\"color: #0087ff; text-decoration-color: #0087ff\">Dense</span>)                  │ (<span style=\"color: #00d7ff; text-decoration-color: #00d7ff\">None</span>, <span style=\"color: #00af00; text-decoration-color: #00af00\">128</span>)            │        <span style=\"color: #00af00; text-decoration-color: #00af00\">98,432</span> │\n",
       "├─────────────────────────────────┼────────────────────────┼───────────────┤\n",
       "│ predict (<span style=\"color: #0087ff; text-decoration-color: #0087ff\">Dense</span>)                 │ (<span style=\"color: #00d7ff; text-decoration-color: #00d7ff\">None</span>, <span style=\"color: #00af00; text-decoration-color: #00af00\">1</span>)              │           <span style=\"color: #00af00; text-decoration-color: #00af00\">129</span> │\n",
       "└─────────────────────────────────┴────────────────────────┴───────────────┘\n",
       "</pre>\n"
      ],
      "text/plain": [
       "┏━━━━━━━━━━━━━━━━━━━━━━━━━━━━━━━━━┳━━━━━━━━━━━━━━━━━━━━━━━━┳━━━━━━━━━━━━━━━┓\n",
       "┃\u001b[1m \u001b[0m\u001b[1mLayer (type)                   \u001b[0m\u001b[1m \u001b[0m┃\u001b[1m \u001b[0m\u001b[1mOutput Shape          \u001b[0m\u001b[1m \u001b[0m┃\u001b[1m \u001b[0m\u001b[1m      Param #\u001b[0m\u001b[1m \u001b[0m┃\n",
       "┡━━━━━━━━━━━━━━━━━━━━━━━━━━━━━━━━━╇━━━━━━━━━━━━━━━━━━━━━━━━╇━━━━━━━━━━━━━━━┩\n",
       "│ input (\u001b[38;5;33mInputLayer\u001b[0m)              │ (\u001b[38;5;45mNone\u001b[0m, \u001b[38;5;34m768\u001b[0m)            │             \u001b[38;5;34m0\u001b[0m │\n",
       "├─────────────────────────────────┼────────────────────────┼───────────────┤\n",
       "│ danse1 (\u001b[38;5;33mDense\u001b[0m)                  │ (\u001b[38;5;45mNone\u001b[0m, \u001b[38;5;34m128\u001b[0m)            │        \u001b[38;5;34m98,432\u001b[0m │\n",
       "├─────────────────────────────────┼────────────────────────┼───────────────┤\n",
       "│ predict (\u001b[38;5;33mDense\u001b[0m)                 │ (\u001b[38;5;45mNone\u001b[0m, \u001b[38;5;34m1\u001b[0m)              │           \u001b[38;5;34m129\u001b[0m │\n",
       "└─────────────────────────────────┴────────────────────────┴───────────────┘\n"
      ]
     },
     "metadata": {},
     "output_type": "display_data"
    },
    {
     "data": {
      "text/html": [
       "<pre style=\"white-space:pre;overflow-x:auto;line-height:normal;font-family:Menlo,'DejaVu Sans Mono',consolas,'Courier New',monospace\"><span style=\"font-weight: bold\"> Total params: </span><span style=\"color: #00af00; text-decoration-color: #00af00\">98,561</span> (385.00 KB)\n",
       "</pre>\n"
      ],
      "text/plain": [
       "\u001b[1m Total params: \u001b[0m\u001b[38;5;34m98,561\u001b[0m (385.00 KB)\n"
      ]
     },
     "metadata": {},
     "output_type": "display_data"
    },
    {
     "data": {
      "text/html": [
       "<pre style=\"white-space:pre;overflow-x:auto;line-height:normal;font-family:Menlo,'DejaVu Sans Mono',consolas,'Courier New',monospace\"><span style=\"font-weight: bold\"> Trainable params: </span><span style=\"color: #00af00; text-decoration-color: #00af00\">98,561</span> (385.00 KB)\n",
       "</pre>\n"
      ],
      "text/plain": [
       "\u001b[1m Trainable params: \u001b[0m\u001b[38;5;34m98,561\u001b[0m (385.00 KB)\n"
      ]
     },
     "metadata": {},
     "output_type": "display_data"
    },
    {
     "data": {
      "text/html": [
       "<pre style=\"white-space:pre;overflow-x:auto;line-height:normal;font-family:Menlo,'DejaVu Sans Mono',consolas,'Courier New',monospace\"><span style=\"font-weight: bold\"> Non-trainable params: </span><span style=\"color: #00af00; text-decoration-color: #00af00\">0</span> (0.00 B)\n",
       "</pre>\n"
      ],
      "text/plain": [
       "\u001b[1m Non-trainable params: \u001b[0m\u001b[38;5;34m0\u001b[0m (0.00 B)\n"
      ]
     },
     "metadata": {},
     "output_type": "display_data"
    }
   ],
   "source": [
    "model.summary()"
   ]
  },
  {
   "cell_type": "markdown",
   "id": "a5cacc4e-9876-40ff-8cd0-f1a4bfbc5c1a",
   "metadata": {},
   "source": [
    "Compile the model. Choose loss and metrics."
   ]
  },
  {
   "cell_type": "code",
   "execution_count": 74,
   "id": "ad74527b-c793-40da-af8e-66172db170f1",
   "metadata": {},
   "outputs": [],
   "source": [
    "model.compile(\n",
    "    optimizer=tf.keras.optimizers.Adam(learning_rate=0.001),\n",
    "    loss=tf.keras.losses.BinaryCrossentropy(from_logits=False),\n",
    "    metrics=['accuracy'])"
   ]
  },
  {
   "cell_type": "markdown",
   "id": "3e08006d-be0a-4828-aca9-a9f37218b8de",
   "metadata": {},
   "source": [
    "# Train the model"
   ]
  },
  {
   "cell_type": "code",
   "execution_count": 75,
   "id": "50982626-8ffc-4f39-8851-5bf03a99672c",
   "metadata": {
    "scrolled": true
   },
   "outputs": [
    {
     "name": "stdout",
     "output_type": "stream",
     "text": [
      "Epoch 1/30\n",
      "\u001b[1m374/374\u001b[0m \u001b[32m━━━━━━━━━━━━━━━━━━━━\u001b[0m\u001b[37m\u001b[0m \u001b[1m2s\u001b[0m 3ms/step - accuracy: 0.6865 - loss: 0.6279 - val_accuracy: 0.8083 - val_loss: 0.4242\n",
      "Epoch 2/30\n",
      "\u001b[1m374/374\u001b[0m \u001b[32m━━━━━━━━━━━━━━━━━━━━\u001b[0m\u001b[37m\u001b[0m \u001b[1m1s\u001b[0m 2ms/step - accuracy: 0.8083 - loss: 0.4225 - val_accuracy: 0.8195 - val_loss: 0.4006\n",
      "Epoch 3/30\n",
      "\u001b[1m374/374\u001b[0m \u001b[32m━━━━━━━━━━━━━━━━━━━━\u001b[0m\u001b[37m\u001b[0m \u001b[1m1s\u001b[0m 2ms/step - accuracy: 0.8170 - loss: 0.4053 - val_accuracy: 0.8149 - val_loss: 0.4007\n",
      "Epoch 4/30\n",
      "\u001b[1m374/374\u001b[0m \u001b[32m━━━━━━━━━━━━━━━━━━━━\u001b[0m\u001b[37m\u001b[0m \u001b[1m1s\u001b[0m 2ms/step - accuracy: 0.8216 - loss: 0.3957 - val_accuracy: 0.8177 - val_loss: 0.3957\n",
      "Epoch 5/30\n",
      "\u001b[1m374/374\u001b[0m \u001b[32m━━━━━━━━━━━━━━━━━━━━\u001b[0m\u001b[37m\u001b[0m \u001b[1m1s\u001b[0m 2ms/step - accuracy: 0.8255 - loss: 0.3887 - val_accuracy: 0.8193 - val_loss: 0.3926\n",
      "Epoch 6/30\n",
      "\u001b[1m374/374\u001b[0m \u001b[32m━━━━━━━━━━━━━━━━━━━━\u001b[0m\u001b[37m\u001b[0m \u001b[1m1s\u001b[0m 2ms/step - accuracy: 0.8283 - loss: 0.3822 - val_accuracy: 0.8213 - val_loss: 0.3883\n",
      "Epoch 7/30\n",
      "\u001b[1m374/374\u001b[0m \u001b[32m━━━━━━━━━━━━━━━━━━━━\u001b[0m\u001b[37m\u001b[0m \u001b[1m1s\u001b[0m 2ms/step - accuracy: 0.8306 - loss: 0.3769 - val_accuracy: 0.8213 - val_loss: 0.3891\n",
      "Epoch 8/30\n",
      "\u001b[1m374/374\u001b[0m \u001b[32m━━━━━━━━━━━━━━━━━━━━\u001b[0m\u001b[37m\u001b[0m \u001b[1m1s\u001b[0m 2ms/step - accuracy: 0.8337 - loss: 0.3725 - val_accuracy: 0.8204 - val_loss: 0.3907\n",
      "Epoch 9/30\n",
      "\u001b[1m374/374\u001b[0m \u001b[32m━━━━━━━━━━━━━━━━━━━━\u001b[0m\u001b[37m\u001b[0m \u001b[1m1s\u001b[0m 2ms/step - accuracy: 0.8348 - loss: 0.3684 - val_accuracy: 0.8164 - val_loss: 0.3986\n",
      "Epoch 10/30\n",
      "\u001b[1m374/374\u001b[0m \u001b[32m━━━━━━━━━━━━━━━━━━━━\u001b[0m\u001b[37m\u001b[0m \u001b[1m1s\u001b[0m 2ms/step - accuracy: 0.8376 - loss: 0.3636 - val_accuracy: 0.8164 - val_loss: 0.3947\n",
      "Epoch 11/30\n",
      "\u001b[1m374/374\u001b[0m \u001b[32m━━━━━━━━━━━━━━━━━━━━\u001b[0m\u001b[37m\u001b[0m \u001b[1m1s\u001b[0m 2ms/step - accuracy: 0.8395 - loss: 0.3590 - val_accuracy: 0.8136 - val_loss: 0.4015\n",
      "Epoch 12/30\n",
      "\u001b[1m374/374\u001b[0m \u001b[32m━━━━━━━━━━━━━━━━━━━━\u001b[0m\u001b[37m\u001b[0m \u001b[1m1s\u001b[0m 2ms/step - accuracy: 0.8409 - loss: 0.3556 - val_accuracy: 0.8034 - val_loss: 0.4188\n",
      "Epoch 13/30\n",
      "\u001b[1m374/374\u001b[0m \u001b[32m━━━━━━━━━━━━━━━━━━━━\u001b[0m\u001b[37m\u001b[0m \u001b[1m1s\u001b[0m 2ms/step - accuracy: 0.8425 - loss: 0.3519 - val_accuracy: 0.8087 - val_loss: 0.4106\n",
      "Epoch 14/30\n",
      "\u001b[1m374/374\u001b[0m \u001b[32m━━━━━━━━━━━━━━━━━━━━\u001b[0m\u001b[37m\u001b[0m \u001b[1m1s\u001b[0m 2ms/step - accuracy: 0.8445 - loss: 0.3478 - val_accuracy: 0.8110 - val_loss: 0.4119\n",
      "Epoch 15/30\n",
      "\u001b[1m374/374\u001b[0m \u001b[32m━━━━━━━━━━━━━━━━━━━━\u001b[0m\u001b[37m\u001b[0m \u001b[1m1s\u001b[0m 2ms/step - accuracy: 0.8444 - loss: 0.3444 - val_accuracy: 0.8003 - val_loss: 0.4318\n",
      "Epoch 16/30\n",
      "\u001b[1m374/374\u001b[0m \u001b[32m━━━━━━━━━━━━━━━━━━━━\u001b[0m\u001b[37m\u001b[0m \u001b[1m1s\u001b[0m 2ms/step - accuracy: 0.8462 - loss: 0.3426 - val_accuracy: 0.8109 - val_loss: 0.4091\n",
      "Epoch 17/30\n",
      "\u001b[1m374/374\u001b[0m \u001b[32m━━━━━━━━━━━━━━━━━━━━\u001b[0m\u001b[37m\u001b[0m \u001b[1m1s\u001b[0m 2ms/step - accuracy: 0.8467 - loss: 0.3385 - val_accuracy: 0.8088 - val_loss: 0.4126\n",
      "Epoch 18/30\n",
      "\u001b[1m374/374\u001b[0m \u001b[32m━━━━━━━━━━━━━━━━━━━━\u001b[0m\u001b[37m\u001b[0m \u001b[1m1s\u001b[0m 2ms/step - accuracy: 0.8495 - loss: 0.3333 - val_accuracy: 0.8229 - val_loss: 0.3886\n",
      "Epoch 19/30\n",
      "\u001b[1m374/374\u001b[0m \u001b[32m━━━━━━━━━━━━━━━━━━━━\u001b[0m\u001b[37m\u001b[0m \u001b[1m1s\u001b[0m 2ms/step - accuracy: 0.8517 - loss: 0.3301 - val_accuracy: 0.8210 - val_loss: 0.3929\n",
      "Epoch 20/30\n",
      "\u001b[1m374/374\u001b[0m \u001b[32m━━━━━━━━━━━━━━━━━━━━\u001b[0m\u001b[37m\u001b[0m \u001b[1m1s\u001b[0m 2ms/step - accuracy: 0.8542 - loss: 0.3254 - val_accuracy: 0.8178 - val_loss: 0.4018\n",
      "Epoch 21/30\n",
      "\u001b[1m374/374\u001b[0m \u001b[32m━━━━━━━━━━━━━━━━━━━━\u001b[0m\u001b[37m\u001b[0m \u001b[1m1s\u001b[0m 2ms/step - accuracy: 0.8574 - loss: 0.3209 - val_accuracy: 0.8195 - val_loss: 0.3968\n",
      "Epoch 22/30\n",
      "\u001b[1m374/374\u001b[0m \u001b[32m━━━━━━━━━━━━━━━━━━━━\u001b[0m\u001b[37m\u001b[0m \u001b[1m1s\u001b[0m 2ms/step - accuracy: 0.8627 - loss: 0.3143 - val_accuracy: 0.8179 - val_loss: 0.4012\n",
      "Epoch 23/30\n",
      "\u001b[1m374/374\u001b[0m \u001b[32m━━━━━━━━━━━━━━━━━━━━\u001b[0m\u001b[37m\u001b[0m \u001b[1m1s\u001b[0m 2ms/step - accuracy: 0.8623 - loss: 0.3121 - val_accuracy: 0.8219 - val_loss: 0.3996\n",
      "Epoch 24/30\n",
      "\u001b[1m374/374\u001b[0m \u001b[32m━━━━━━━━━━━━━━━━━━━━\u001b[0m\u001b[37m\u001b[0m \u001b[1m1s\u001b[0m 2ms/step - accuracy: 0.8676 - loss: 0.3069 - val_accuracy: 0.8235 - val_loss: 0.3976\n",
      "Epoch 25/30\n",
      "\u001b[1m374/374\u001b[0m \u001b[32m━━━━━━━━━━━━━━━━━━━━\u001b[0m\u001b[37m\u001b[0m \u001b[1m1s\u001b[0m 2ms/step - accuracy: 0.8688 - loss: 0.3028 - val_accuracy: 0.8237 - val_loss: 0.3967\n",
      "Epoch 26/30\n",
      "\u001b[1m374/374\u001b[0m \u001b[32m━━━━━━━━━━━━━━━━━━━━\u001b[0m\u001b[37m\u001b[0m \u001b[1m1s\u001b[0m 2ms/step - accuracy: 0.8707 - loss: 0.2979 - val_accuracy: 0.8195 - val_loss: 0.4027\n",
      "Epoch 27/30\n",
      "\u001b[1m374/374\u001b[0m \u001b[32m━━━━━━━━━━━━━━━━━━━━\u001b[0m\u001b[37m\u001b[0m \u001b[1m1s\u001b[0m 2ms/step - accuracy: 0.8736 - loss: 0.2920 - val_accuracy: 0.8196 - val_loss: 0.4048\n",
      "Epoch 28/30\n",
      "\u001b[1m374/374\u001b[0m \u001b[32m━━━━━━━━━━━━━━━━━━━━\u001b[0m\u001b[37m\u001b[0m \u001b[1m1s\u001b[0m 2ms/step - accuracy: 0.8763 - loss: 0.2875 - val_accuracy: 0.8228 - val_loss: 0.3996\n",
      "Epoch 29/30\n",
      "\u001b[1m374/374\u001b[0m \u001b[32m━━━━━━━━━━━━━━━━━━━━\u001b[0m\u001b[37m\u001b[0m \u001b[1m1s\u001b[0m 2ms/step - accuracy: 0.8780 - loss: 0.2830 - val_accuracy: 0.8242 - val_loss: 0.3982\n",
      "Epoch 30/30\n",
      "\u001b[1m374/374\u001b[0m \u001b[32m━━━━━━━━━━━━━━━━━━━━\u001b[0m\u001b[37m\u001b[0m \u001b[1m1s\u001b[0m 2ms/step - accuracy: 0.8805 - loss: 0.2791 - val_accuracy: 0.8245 - val_loss: 0.4030\n"
     ]
    }
   ],
   "source": [
    "history = model.fit(dataset_train, validation_data=dataset_val, batch_size=BATCH_SIZE, epochs=30)"
   ]
  },
  {
   "cell_type": "code",
   "execution_count": 76,
   "id": "ea1a0a91-4edd-4de3-a554-60bab7c9ab14",
   "metadata": {},
   "outputs": [
    {
     "data": {
      "image/png": "[encoded data removed]",
      "text/plain": [
       "<Figure size 640x480 with 1 Axes>"
      ]
     },
     "metadata": {},
     "output_type": "display_data"
    }
   ],
   "source": [
    "loss = history.history['loss']\n",
    "val_loss = history.history['val_loss']\n",
    "\n",
    "epochs = range(1, len(loss) + 1)\n",
    "\n",
    "plt.plot(epochs, loss, 'r', label='Training loss')\n",
    "plt.plot(epochs, val_loss, 'b', label='Validation loss',)\n",
    "plt.title('Training and validation loss')\n",
    "plt.xlabel('Epochs')\n",
    "plt.ylabel('Loss')\n",
    "plt.legend()\n",
    "\n",
    "plt.show()"
   ]
  },
  {
   "cell_type": "code",
   "execution_count": 77,
   "id": "d26e41cc-2203-4314-8d9f-c5e967677d24",
   "metadata": {},
   "outputs": [
    {
     "data": {
      "image/png": "[encoded data removed]",
      "text/plain": [
       "<Figure size 640x480 with 1 Axes>"
      ]
     },
     "metadata": {},
     "output_type": "display_data"
    }
   ],
   "source": [
    "acc = history.history['accuracy']\n",
    "val_acc = history.history['val_accuracy']\n",
    "\n",
    "epochs = range(1, len(acc) + 1)\n",
    "\n",
    "plt.plot(epochs, acc, 'r', label='Training accuracy')\n",
    "plt.plot(epochs, val_acc, 'b', label='Validation accuracy')\n",
    "plt.title('Training and validation accuracy')\n",
    "plt.xlabel('Epochs')\n",
    "plt.ylabel('Accuracy')\n",
    "plt.legend()\n",
    "\n",
    "plt.show()"
   ]
  },
  {
   "cell_type": "code",
   "execution_count": 78,
   "id": "bedc722b-30b9-436e-b451-adfcb50388d1",
   "metadata": {
    "scrolled": true
   },
   "outputs": [
    {
     "name": "stdout",
     "output_type": "stream",
     "text": [
      "Epoch 1/30\n",
      "\u001b[1m374/374\u001b[0m \u001b[32m━━━━━━━━━━━━━━━━━━━━\u001b[0m\u001b[37m\u001b[0m \u001b[1m1s\u001b[0m 2ms/step - accuracy: 0.8833 - loss: 0.2726 - val_accuracy: 0.8245 - val_loss: 0.4018\n",
      "Epoch 2/30\n",
      "\u001b[1m374/374\u001b[0m \u001b[32m━━━━━━━━━━━━━━━━━━━━\u001b[0m\u001b[37m\u001b[0m \u001b[1m1s\u001b[0m 2ms/step - accuracy: 0.8857 - loss: 0.2696 - val_accuracy: 0.8190 - val_loss: 0.4244\n",
      "Epoch 3/30\n",
      "\u001b[1m374/374\u001b[0m \u001b[32m━━━━━━━━━━━━━━━━━━━━\u001b[0m\u001b[37m\u001b[0m \u001b[1m1s\u001b[0m 2ms/step - accuracy: 0.8879 - loss: 0.2643 - val_accuracy: 0.8164 - val_loss: 0.4254\n",
      "Epoch 4/30\n",
      "\u001b[1m374/374\u001b[0m \u001b[32m━━━━━━━━━━━━━━━━━━━━\u001b[0m\u001b[37m\u001b[0m \u001b[1m1s\u001b[0m 2ms/step - accuracy: 0.8903 - loss: 0.2600 - val_accuracy: 0.8152 - val_loss: 0.4369\n",
      "Epoch 5/30\n",
      "\u001b[1m374/374\u001b[0m \u001b[32m━━━━━━━━━━━━━━━━━━━━\u001b[0m\u001b[37m\u001b[0m \u001b[1m1s\u001b[0m 2ms/step - accuracy: 0.8929 - loss: 0.2563 - val_accuracy: 0.8196 - val_loss: 0.4303\n",
      "Epoch 6/30\n",
      "\u001b[1m374/374\u001b[0m \u001b[32m━━━━━━━━━━━━━━━━━━━━\u001b[0m\u001b[37m\u001b[0m \u001b[1m1s\u001b[0m 2ms/step - accuracy: 0.8930 - loss: 0.2537 - val_accuracy: 0.8196 - val_loss: 0.4396\n",
      "Epoch 7/30\n",
      "\u001b[1m374/374\u001b[0m \u001b[32m━━━━━━━━━━━━━━━━━━━━\u001b[0m\u001b[37m\u001b[0m \u001b[1m1s\u001b[0m 2ms/step - accuracy: 0.8964 - loss: 0.2489 - val_accuracy: 0.8261 - val_loss: 0.4217\n",
      "Epoch 8/30\n",
      "\u001b[1m374/374\u001b[0m \u001b[32m━━━━━━━━━━━━━━━━━━━━\u001b[0m\u001b[37m\u001b[0m \u001b[1m1s\u001b[0m 2ms/step - accuracy: 0.8970 - loss: 0.2459 - val_accuracy: 0.8308 - val_loss: 0.4089\n",
      "Epoch 9/30\n",
      "\u001b[1m374/374\u001b[0m \u001b[32m━━━━━━━━━━━━━━━━━━━━\u001b[0m\u001b[37m\u001b[0m \u001b[1m1s\u001b[0m 2ms/step - accuracy: 0.8983 - loss: 0.2437 - val_accuracy: 0.8341 - val_loss: 0.3962\n",
      "Epoch 10/30\n",
      "\u001b[1m374/374\u001b[0m \u001b[32m━━━━━━━━━━━━━━━━━━━━\u001b[0m\u001b[37m\u001b[0m \u001b[1m1s\u001b[0m 2ms/step - accuracy: 0.8978 - loss: 0.2421 - val_accuracy: 0.8356 - val_loss: 0.3977\n",
      "Epoch 11/30\n",
      "\u001b[1m374/374\u001b[0m \u001b[32m━━━━━━━━━━━━━━━━━━━━\u001b[0m\u001b[37m\u001b[0m \u001b[1m1s\u001b[0m 2ms/step - accuracy: 0.8983 - loss: 0.2406 - val_accuracy: 0.8350 - val_loss: 0.4061\n",
      "Epoch 12/30\n",
      "\u001b[1m374/374\u001b[0m \u001b[32m━━━━━━━━━━━━━━━━━━━━\u001b[0m\u001b[37m\u001b[0m \u001b[1m1s\u001b[0m 2ms/step - accuracy: 0.9016 - loss: 0.2347 - val_accuracy: 0.8351 - val_loss: 0.4053\n",
      "Epoch 13/30\n",
      "\u001b[1m374/374\u001b[0m \u001b[32m━━━━━━━━━━━━━━━━━━━━\u001b[0m\u001b[37m\u001b[0m \u001b[1m1s\u001b[0m 2ms/step - accuracy: 0.9017 - loss: 0.2336 - val_accuracy: 0.8311 - val_loss: 0.4152\n",
      "Epoch 14/30\n",
      "\u001b[1m374/374\u001b[0m \u001b[32m━━━━━━━━━━━━━━━━━━━━\u001b[0m\u001b[37m\u001b[0m \u001b[1m1s\u001b[0m 2ms/step - accuracy: 0.9026 - loss: 0.2334 - val_accuracy: 0.8274 - val_loss: 0.4238\n",
      "Epoch 15/30\n",
      "\u001b[1m374/374\u001b[0m \u001b[32m━━━━━━━━━━━━━━━━━━━━\u001b[0m\u001b[37m\u001b[0m \u001b[1m1s\u001b[0m 2ms/step - accuracy: 0.9009 - loss: 0.2358 - val_accuracy: 0.8320 - val_loss: 0.4074\n",
      "Epoch 16/30\n",
      "\u001b[1m374/374\u001b[0m \u001b[32m━━━━━━━━━━━━━━━━━━━━\u001b[0m\u001b[37m\u001b[0m \u001b[1m1s\u001b[0m 2ms/step - accuracy: 0.8970 - loss: 0.2446 - val_accuracy: 0.8266 - val_loss: 0.4338\n",
      "Epoch 17/30\n",
      "\u001b[1m374/374\u001b[0m \u001b[32m━━━━━━━━━━━━━━━━━━━━\u001b[0m\u001b[37m\u001b[0m \u001b[1m1s\u001b[0m 2ms/step - accuracy: 0.8921 - loss: 0.2525 - val_accuracy: 0.8216 - val_loss: 0.4421\n",
      "Epoch 18/30\n",
      "\u001b[1m374/374\u001b[0m \u001b[32m━━━━━━━━━━━━━━━━━━━━\u001b[0m\u001b[37m\u001b[0m \u001b[1m1s\u001b[0m 2ms/step - accuracy: 0.8894 - loss: 0.2534 - val_accuracy: 0.8218 - val_loss: 0.4351\n",
      "Epoch 19/30\n",
      "\u001b[1m374/374\u001b[0m \u001b[32m━━━━━━━━━━━━━━━━━━━━\u001b[0m\u001b[37m\u001b[0m \u001b[1m1s\u001b[0m 2ms/step - accuracy: 0.8937 - loss: 0.2475 - val_accuracy: 0.8262 - val_loss: 0.4322\n",
      "Epoch 20/30\n",
      "\u001b[1m374/374\u001b[0m \u001b[32m━━━━━━━━━━━━━━━━━━━━\u001b[0m\u001b[37m\u001b[0m \u001b[1m1s\u001b[0m 2ms/step - accuracy: 0.8972 - loss: 0.2395 - val_accuracy: 0.8279 - val_loss: 0.4279\n",
      "Epoch 21/30\n",
      "\u001b[1m374/374\u001b[0m \u001b[32m━━━━━━━━━━━━━━━━━━━━\u001b[0m\u001b[37m\u001b[0m \u001b[1m1s\u001b[0m 2ms/step - accuracy: 0.9004 - loss: 0.2340 - val_accuracy: 0.8285 - val_loss: 0.4251\n",
      "Epoch 22/30\n",
      "\u001b[1m374/374\u001b[0m \u001b[32m━━━━━━━━━━━━━━━━━━━━\u001b[0m\u001b[37m\u001b[0m \u001b[1m1s\u001b[0m 2ms/step - accuracy: 0.9034 - loss: 0.2287 - val_accuracy: 0.8299 - val_loss: 0.4240\n",
      "Epoch 23/30\n",
      "\u001b[1m374/374\u001b[0m \u001b[32m━━━━━━━━━━━━━━━━━━━━\u001b[0m\u001b[37m\u001b[0m \u001b[1m1s\u001b[0m 2ms/step - accuracy: 0.9063 - loss: 0.2210 - val_accuracy: 0.8293 - val_loss: 0.4314\n",
      "Epoch 24/30\n",
      "\u001b[1m374/374\u001b[0m \u001b[32m━━━━━━━━━━━━━━━━━━━━\u001b[0m\u001b[37m\u001b[0m \u001b[1m1s\u001b[0m 2ms/step - accuracy: 0.9109 - loss: 0.2139 - val_accuracy: 0.8322 - val_loss: 0.4241\n",
      "Epoch 25/30\n",
      "\u001b[1m374/374\u001b[0m \u001b[32m━━━━━━━━━━━━━━━━━━━━\u001b[0m\u001b[37m\u001b[0m \u001b[1m1s\u001b[0m 2ms/step - accuracy: 0.9155 - loss: 0.2068 - val_accuracy: 0.8357 - val_loss: 0.4160\n",
      "Epoch 26/30\n",
      "\u001b[1m374/374\u001b[0m \u001b[32m━━━━━━━━━━━━━━━━━━━━\u001b[0m\u001b[37m\u001b[0m \u001b[1m1s\u001b[0m 2ms/step - accuracy: 0.9204 - loss: 0.1994 - val_accuracy: 0.8371 - val_loss: 0.4207\n",
      "Epoch 27/30\n",
      "\u001b[1m374/374\u001b[0m \u001b[32m━━━━━━━━━━━━━━━━━━━━\u001b[0m\u001b[37m\u001b[0m \u001b[1m1s\u001b[0m 2ms/step - accuracy: 0.9240 - loss: 0.1943 - val_accuracy: 0.8381 - val_loss: 0.4236\n",
      "Epoch 28/30\n",
      "\u001b[1m374/374\u001b[0m \u001b[32m━━━━━━━━━━━━━━━━━━━━\u001b[0m\u001b[37m\u001b[0m \u001b[1m1s\u001b[0m 2ms/step - accuracy: 0.9254 - loss: 0.1896 - val_accuracy: 0.8359 - val_loss: 0.4269\n",
      "Epoch 29/30\n",
      "\u001b[1m374/374\u001b[0m \u001b[32m━━━━━━━━━━━━━━━━━━━━\u001b[0m\u001b[37m\u001b[0m \u001b[1m1s\u001b[0m 2ms/step - accuracy: 0.9272 - loss: 0.1853 - val_accuracy: 0.8339 - val_loss: 0.4414\n",
      "Epoch 30/30\n",
      "\u001b[1m374/374\u001b[0m \u001b[32m━━━━━━━━━━━━━━━━━━━━\u001b[0m\u001b[37m\u001b[0m \u001b[1m1s\u001b[0m 2ms/step - accuracy: 0.9293 - loss: 0.1820 - val_accuracy: 0.8354 - val_loss: 0.4401\n"
     ]
    }
   ],
   "source": [
    "history2 = model.fit(dataset_train, validation_data=dataset_val, batch_size=BATCH_SIZE, epochs=30)"
   ]
  },
  {
   "cell_type": "code",
   "execution_count": 79,
   "id": "a4cf79ff-6973-4a60-be9d-3b827265619d",
   "metadata": {},
   "outputs": [
    {
     "data": {
      "image/png": "[encoded data removed]",
      "text/plain": [
       "<Figure size 640x480 with 1 Axes>"
      ]
     },
     "metadata": {},
     "output_type": "display_data"
    }
   ],
   "source": [
    "loss = history2.history['loss']\n",
    "val_loss = history2.history['val_loss']\n",
    "\n",
    "epochs = range(1, len(loss) + 1)\n",
    "\n",
    "plt.plot(epochs, loss, 'r', label='Training loss')\n",
    "plt.plot(epochs, val_loss, 'b', label='Validation loss',)\n",
    "plt.title('Training and validation loss')\n",
    "plt.xlabel('Epochs')\n",
    "plt.ylabel('Loss')\n",
    "plt.legend()\n",
    "\n",
    "plt.show()"
   ]
  },
  {
   "cell_type": "code",
   "execution_count": 80,
   "id": "86ff5695-e169-4a0e-94c6-5722730be008",
   "metadata": {},
   "outputs": [
    {
     "data": {
      "image/png": "[encoded data removed]",
      "text/plain": [
       "<Figure size 640x480 with 1 Axes>"
      ]
     },
     "metadata": {},
     "output_type": "display_data"
    }
   ],
   "source": [
    "acc = history2.history['accuracy']\n",
    "val_acc = history2.history['val_accuracy']\n",
    "\n",
    "epochs = range(1, len(acc) + 1)\n",
    "\n",
    "plt.plot(epochs, acc, 'r', label='Training accuracy')\n",
    "plt.plot(epochs, val_acc, 'b', label='Validation accuracy')\n",
    "plt.title('Training and validation accuracy')\n",
    "plt.xlabel('Epochs')\n",
    "plt.ylabel('Accuracy')\n",
    "plt.legend()\n",
    "\n",
    "plt.show()"
   ]
  },
  {
   "cell_type": "code",
   "execution_count": 81,
   "id": "145dea0c-90d0-4078-a4c7-d190499f46f6",
   "metadata": {},
   "outputs": [
    {
     "name": "stdout",
     "output_type": "stream",
     "text": [
      "Веса модели classifier_text сохранены\n"
     ]
    }
   ],
   "source": [
    "model.save_weights(f'second_{model.name}.weights.h5')\n",
    "print(f'Веса модели {model.name} сохранены')"
   ]
  },
  {
   "cell_type": "markdown",
   "id": "3980f062-220a-4a11-b9f5-3b0e41804533",
   "metadata": {},
   "source": [
    "# Evaluation"
   ]
  },
  {
   "cell_type": "markdown",
   "id": "4b6008a2-9882-44f2-946c-23827aa5fa49",
   "metadata": {},
   "source": [
    "Evalute the model on test data."
   ]
  },
  {
   "cell_type": "code",
   "execution_count": 12,
   "id": "53cc0276-54ee-46c8-af17-56868a40bf0e",
   "metadata": {},
   "outputs": [],
   "source": [
    "model.load_weights('second_classifier_text.weights.h5')"
   ]
  },
  {
   "cell_type": "code",
   "execution_count": 82,
   "id": "1b4ddf9e-5710-4c7f-ac58-4d94742c0d14",
   "metadata": {},
   "outputs": [
    {
     "name": "stdout",
     "output_type": "stream",
     "text": [
      "\u001b[1m160/160\u001b[0m \u001b[32m━━━━━━━━━━━━━━━━━━━━\u001b[0m\u001b[37m\u001b[0m \u001b[1m0s\u001b[0m 1ms/step - accuracy: 0.8391 - loss: 0.4294\n"
     ]
    },
    {
     "data": {
      "text/plain": [
       "[0.44011390209198, 0.8353935480117798]"
      ]
     },
     "execution_count": 82,
     "metadata": {},
     "output_type": "execute_result"
    }
   ],
   "source": [
    "model.evaluate(dataset_val)"
   ]
  },
  {
   "cell_type": "markdown",
   "id": "c96f4ae8-6b6c-4c4d-94dc-be8062b7e982",
   "metadata": {},
   "source": [
    "Plot confusion matrix."
   ]
  },
  {
   "cell_type": "code",
   "execution_count": 83,
   "id": "f981b4b2-c41e-407b-a2c0-d4ebca1e7062",
   "metadata": {},
   "outputs": [
    {
     "name": "stderr",
     "output_type": "stream",
     "text": [
      "2024-11-20 22:40:58.068395: W tensorflow/core/framework/local_rendezvous.cc:404] Local rendezvous is aborting with status: OUT_OF_RANGE: End of sequence\n"
     ]
    }
   ],
   "source": [
    "y_val = []\n",
    "for _, y in dataset_val:\n",
    "    y_val.append(np.array(y))"
   ]
  },
  {
   "cell_type": "code",
   "execution_count": 84,
   "id": "625ff33f-6cfb-4d66-897a-4b7f6433d783",
   "metadata": {},
   "outputs": [],
   "source": [
    "y_val = np.concatenate(y_val, axis=0)"
   ]
  },
  {
   "cell_type": "code",
   "execution_count": 85,
   "id": "5b5f45ab-dac1-4d31-b52d-82acb67db66d",
   "metadata": {},
   "outputs": [
    {
     "name": "stdout",
     "output_type": "stream",
     "text": [
      "\u001b[1m160/160\u001b[0m \u001b[32m━━━━━━━━━━━━━━━━━━━━\u001b[0m\u001b[37m\u001b[0m \u001b[1m0s\u001b[0m 2ms/step\n"
     ]
    }
   ],
   "source": [
    "y_pred = model.predict(dataset_val)"
   ]
  },
  {
   "cell_type": "code",
   "execution_count": 86,
   "id": "b2d1af90-d5b9-48eb-8dd2-cba0382cd69d",
   "metadata": {},
   "outputs": [
    {
     "data": {
      "text/plain": [
       "array([[0.823812  ],\n",
       "       [0.16638763],\n",
       "       [0.01097303],\n",
       "       ...,\n",
       "       [0.99989307],\n",
       "       [0.9762265 ],\n",
       "       [0.9985751 ]], dtype=float32)"
      ]
     },
     "execution_count": 86,
     "metadata": {},
     "output_type": "execute_result"
    }
   ],
   "source": [
    "y_pred"
   ]
  },
  {
   "cell_type": "code",
   "execution_count": 87,
   "id": "d6941f85-5c1c-4c59-8b0c-22726ee78c88",
   "metadata": {},
   "outputs": [
    {
     "data": {
      "text/plain": [
       "array([0, 0, 0, ..., 1, 1, 1])"
      ]
     },
     "execution_count": 87,
     "metadata": {},
     "output_type": "execute_result"
    }
   ],
   "source": [
    "y_val"
   ]
  },
  {
   "cell_type": "code",
   "execution_count": 88,
   "id": "efdc4265-e321-4319-8282-ee56e158afeb",
   "metadata": {},
   "outputs": [
    {
     "data": {
      "text/plain": [
       "array([1, 0, 0, ..., 1, 1, 1])"
      ]
     },
     "execution_count": 88,
     "metadata": {},
     "output_type": "execute_result"
    }
   ],
   "source": [
    "y_pred = np.round(y_pred.flatten()).astype(int)\n",
    "y_pred"
   ]
  },
  {
   "cell_type": "code",
   "execution_count": 89,
   "id": "4f9aedda-81b9-4c17-964d-93d3ba1b7d19",
   "metadata": {},
   "outputs": [
    {
     "data": {
      "text/plain": [
       "(array([0, 1]), array([0, 1]))"
      ]
     },
     "execution_count": 89,
     "metadata": {},
     "output_type": "execute_result"
    }
   ],
   "source": [
    "np.unique(y_pred), np.unique(y_val)"
   ]
  },
  {
   "cell_type": "code",
   "execution_count": 90,
   "id": "5053dbe1-8cf1-4d66-a8cb-eda5490daf0c",
   "metadata": {},
   "outputs": [
    {
     "data": {
      "text/plain": [
       "<sklearn.metrics._plot.confusion_matrix.ConfusionMatrixDisplay at 0x7f6d6b37e770>"
      ]
     },
     "execution_count": 90,
     "metadata": {},
     "output_type": "execute_result"
    },
    {
     "data": {
      "image/png": "[encoded data removed]",
      "text/plain": [
       "<Figure size 1200x1200 with 1 Axes>"
      ]
     },
     "metadata": {},
     "output_type": "display_data"
    }
   ],
   "source": [
    "_, ax = plt.subplots(figsize=(12, 12))\n",
    "sklearn.metrics.ConfusionMatrixDisplay.from_predictions(y_val, y_pred, labels=[0, 1],display_labels=['negative', 'positive'], ax=ax, colorbar=False)"
   ]
  },
  {
   "cell_type": "markdown",
   "id": "6997d559-de7f-4e67-96f1-85df047dcbb7",
   "metadata": {},
   "source": [
    "Write a function to classify a piece of text."
   ]
  },
  {
   "cell_type": "code",
   "execution_count": 102,
   "id": "21a748d8-b5a2-4f90-a3d8-ee36d69d34fb",
   "metadata": {},
   "outputs": [],
   "source": [
    "def classify_text(text: str,\n",
    "                  treshold: int = 0.5) -> tuple[int | str, np.ndarray]:\n",
    "    '''Classifes the given `text` using the trained model.\n",
    "\n",
    "    Arguments:\n",
    "        text: text to be classified\n",
    "\n",
    "    Return:\n",
    "        The assigned label and probabilites of all labels'''\n",
    "\n",
    "    text_tokeniz = tokenizer(text, truncation=True, padding='max_length', max_length=max_len_pad, return_tensors='tf')\n",
    "\n",
    "    features = keras.ops.max(base_model(text_tokeniz['input_ids']).last_hidden_state, axis=1)\n",
    "\n",
    "    predict = model.predict(features, verbose=False)\n",
    "\n",
    "    label = 1 if predict[0][0] >= treshold else 0\n",
    "    probability = np.round(predict[0][0], 5)\n",
    "\n",
    "    return label, probability"
   ]
  },
  {
   "cell_type": "markdown",
   "id": "8f2043ad-8f1b-4c17-8f11-23487f66db5f",
   "metadata": {},
   "source": [
    "Evaluate the model on text not present in training and test data (come up with the text yourself). Try to get an input for each class."
   ]
  },
  {
   "cell_type": "code",
   "execution_count": 92,
   "id": "f5bbbaf8-68f6-4aa1-af37-f29b1edae464",
   "metadata": {},
   "outputs": [],
   "source": [
    "test_dataset = datasets.load_dataset('stanfordnlp/sst2', split='test')"
   ]
  },
  {
   "cell_type": "code",
   "execution_count": 93,
   "id": "f431ae72-e236-44d8-8668-55918ff5c65f",
   "metadata": {},
   "outputs": [
    {
     "data": {
      "text/plain": [
       "16"
      ]
     },
     "execution_count": 93,
     "metadata": {},
     "output_type": "execute_result"
    }
   ],
   "source": [
    "max_len_pad"
   ]
  },
  {
   "cell_type": "code",
   "execution_count": 94,
   "id": "a4acb5b9-62b7-44c6-8b4a-aa0a85fa3971",
   "metadata": {},
   "outputs": [],
   "source": [
    "labels = ['nagative', 'positive']"
   ]
  },
  {
   "cell_type": "code",
   "execution_count": 103,
   "id": "6537442c-c3fa-4097-bf1c-5ba6499478df",
   "metadata": {},
   "outputs": [
    {
     "name": "stdout",
     "output_type": "stream",
     "text": [
      "i 'm not suggesting that you actually see it , unless you 're the kind of person who has seen every wim wenders film of the '70s .\n",
      "Это nagative комментарий\n",
      "Вероятность принадлежности текста к классу positive: 0.2839600145816803\n"
     ]
    }
   ],
   "source": [
    "text = test_dataset['sentence'][89]\n",
    "print(text)\n",
    "label, probability = classify_text(text, treshold=0.5)\n",
    "print(f'Это {labels[label]} комментарий')\n",
    "print(f'Вероятность принадлежности текста к классу positive: {probability}') "
   ]
  },
  {
   "cell_type": "code",
   "execution_count": 104,
   "id": "4fb84393-5ec5-422e-a1e9-706739b82fa4",
   "metadata": {},
   "outputs": [
    {
     "name": "stdout",
     "output_type": "stream",
     "text": [
      "a well-made and often lovely depiction of the mysteries of friendship .\n",
      "Это positive комментарий\n",
      "Вероятность принадлежности текста к классу positive: 1.0\n"
     ]
    }
   ],
   "source": [
    "text = test_dataset['sentence'][5]\n",
    "print(text)\n",
    "label, probability = classify_text(text, treshold=0.5)\n",
    "print(f'Это {labels[label]} комментарий')\n",
    "print(f'Вероятность принадлежности текста к классу positive: {probability}') "
   ]
  },
  {
   "cell_type": "code",
   "execution_count": 105,
   "id": "e7301b2e-4014-4126-805b-2c2243acc316",
   "metadata": {},
   "outputs": [
    {
     "name": "stdout",
     "output_type": "stream",
     "text": [
      "------------------------------\n",
      "you might not buy the ideas .\n",
      "Это nagative комментарий\n",
      "Вероятность принадлежности текста к классу positive: 0.034630000591278076\n",
      "------------------------------\n",
      "... surprisingly inert for a movie in which the main character travels back and forth between epochs .\n",
      "Это positive комментарий\n",
      "Вероятность принадлежности текста к классу positive: 0.9035900235176086\n",
      "------------------------------\n",
      "finds a way to tell a simple story , perhaps the simplest story of all , in a way that seems compelling and even original .\n",
      "Это positive комментарий\n",
      "Вероятность принадлежности текста к классу positive: 0.6971700191497803\n",
      "------------------------------\n",
      "city by the sea is the cinematic equivalent of defensive driving : it 's careful , conscientious and makes no major mistakes .\n",
      "Это positive комментарий\n",
      "Вероятность принадлежности текста к классу positive: 0.7329599857330322\n",
      "------------------------------\n",
      "gets under the skin of a man who has just lost his wife .\n",
      "Это positive комментарий\n",
      "Вероятность принадлежности текста к классу positive: 0.8023499846458435\n",
      "------------------------------\n",
      "bartleby is a one-joke movie , and a bad joke at that .\n",
      "Это nagative комментарий\n",
      "Вероятность принадлежности текста к классу positive: 0.018360000103712082\n",
      "------------------------------\n",
      "like a tone-deaf singer at a benefit concert , john q. is a bad movie appearing on behalf of a good cause .\n",
      "Это nagative комментарий\n",
      "Вероятность принадлежности текста к классу positive: 0.011780000291764736\n",
      "------------------------------\n",
      "the movie gets muted and routine .\n",
      "Это nagative комментарий\n",
      "Вероятность принадлежности текста к классу positive: 0.0007600000244565308\n"
     ]
    }
   ],
   "source": [
    "for i in range(1030, 1070, 5):\n",
    "    text = test_dataset['sentence'][i]\n",
    "    print(30*'-')\n",
    "    print(text)\n",
    "    label, probability = classify_text(text, treshold=0.5)\n",
    "    print(f'Это {labels[label]} комментарий')\n",
    "    print(f'Вероятность принадлежности текста к классу positive: {probability}') "
   ]
  },
  {
   "cell_type": "markdown",
   "id": "dd49c775-eded-4a49-b7f4-9903185a7b9d",
   "metadata": {},
   "source": [
    "# Bonus"
   ]
  },
  {
   "cell_type": "markdown",
   "id": "726c617b-7110-4761-9806-975d5f84bf41",
   "metadata": {},
   "source": [
    "Write a function that computes word impact on text label. "
   ]
  },
  {
   "cell_type": "code",
   "execution_count": 106,
   "id": "01a46658-8770-4d53-94ec-b7651dbde221",
   "metadata": {},
   "outputs": [],
   "source": [
    "def get_words_impact(text: str) -> list[tuple[str, np.ndarray]]:\n",
    "    '''Determines word impact on text label.\n",
    "\n",
    "    Arguments:\n",
    "        text: Sample text to be used for computation.\n",
    "\n",
    "    Returns:\n",
    "        A list of pairs: the word and vector of probability changes for each class'''\n",
    "    pairs = {}\n",
    "    pairs['full_text'] = classify_text(text)[1]\n",
    "    all_words = text.split()\n",
    "    for word in all_words:\n",
    "        del_words = [x for x in all_words if x != word]\n",
    "        new_text = ' '.join(del_words)\n",
    "        pairs[word] = classify_text(new_text)[1]\n",
    "        \n",
    "    return list(pairs.items())"
   ]
  },
  {
   "cell_type": "markdown",
   "id": "1c6dbd69-ea3c-41df-943c-16a379384b16",
   "metadata": {},
   "source": [
    "Try to find out words that make text have a specific label."
   ]
  },
  {
   "cell_type": "code",
   "execution_count": 107,
   "id": "c51fe764-88a9-4488-b469-39f0bda8260a",
   "metadata": {},
   "outputs": [
    {
     "data": {
      "text/plain": [
       "[('full_text', 1.0),\n",
       " ('I', 1.0),\n",
       " ('was', 1.0),\n",
       " ('very', 1.0),\n",
       " ('impressed', 0.99998),\n",
       " ('by', 1.0),\n",
       " ('the', 1.0),\n",
       " ('thoughtfulness', 0.99999),\n",
       " ('of', 1.0),\n",
       " (\"film's\", 1.0),\n",
       " ('script', 1.0),\n",
       " ('.', 1.0)]"
      ]
     },
     "execution_count": 107,
     "metadata": {},
     "output_type": "execute_result"
    }
   ],
   "source": [
    "text = \"I was very impressed by the thoughtfulness of the film's script .\"\n",
    "get_words_impact(text)"
   ]
  },
  {
   "cell_type": "code",
   "execution_count": 108,
   "id": "f34fd4d0-aed5-4466-a57a-7195c767c67b",
   "metadata": {},
   "outputs": [
    {
     "data": {
      "text/plain": [
       "[('full_text', 0.0),\n",
       " ('This', 0.00253),\n",
       " ('movie', 6e-05),\n",
       " ('is', 0.00018),\n",
       " ('one', 1e-05),\n",
       " ('big', 0.00125),\n",
       " ('cliche', 0.99899)]"
      ]
     },
     "execution_count": 108,
     "metadata": {},
     "output_type": "execute_result"
    }
   ],
   "source": [
    "text = \"This movie is one big cliche\"\n",
    "get_words_impact(text)"
   ]
  },
  {
   "cell_type": "code",
   "execution_count": 109,
   "id": "d2001581-2b76-41af-928f-73a3e0bd6d33",
   "metadata": {},
   "outputs": [
    {
     "data": {
      "text/plain": [
       "[('full_text', 2e-05),\n",
       " ('I', 1e-05),\n",
       " ('think', 0.00167),\n",
       " ('the', 1e-05),\n",
       " ('author', 0.00114),\n",
       " (\"didn't\", 0.82746),\n",
       " ('have', 2e-05),\n",
       " ('enough', 1e-05),\n",
       " ('skills', 3e-05),\n",
       " ('to', 0.00035),\n",
       " ('make', 0.00061),\n",
       " ('film', 0.0),\n",
       " ('more', 6e-05),\n",
       " ('interesting', 2e-05),\n",
       " ('.', 2e-05)]"
      ]
     },
     "execution_count": 109,
     "metadata": {},
     "output_type": "execute_result"
    }
   ],
   "source": [
    "text = \"I think the author didn't have enough skills to make the film more interesting .\"\n",
    "get_words_impact(text)"
   ]
  },
  {
   "cell_type": "code",
   "execution_count": 110,
   "id": "167b6bfa-0001-4174-92b2-5fe09db25e3f",
   "metadata": {},
   "outputs": [
    {
     "data": {
      "text/plain": [
       "[('full_text', 0.98699),\n",
       " ('I', 0.99979),\n",
       " ('was', 0.99127),\n",
       " ('very', 0.93957),\n",
       " ('interested', 0.49792),\n",
       " ('.', 0.99886)]"
      ]
     },
     "execution_count": 110,
     "metadata": {},
     "output_type": "execute_result"
    }
   ],
   "source": [
    "text = \"I was very interested .\"\n",
    "get_words_impact(text)"
   ]
  },
  {
   "cell_type": "code",
   "execution_count": 111,
   "id": "3b73c297-e63d-4ea3-9524-6bf72e4ea10d",
   "metadata": {},
   "outputs": [
    {
     "data": {
      "text/plain": [
       "[('full_text', 0.80235),\n",
       " ('gets', 0.58142),\n",
       " ('under', 0.14517),\n",
       " ('the', 0.63127),\n",
       " ('skin', 0.95712),\n",
       " ('of', 0.9273),\n",
       " ('a', 0.72881),\n",
       " ('man', 0.73443),\n",
       " ('who', 0.19942),\n",
       " ('has', 0.64821),\n",
       " ('just', 0.34552),\n",
       " ('lost', 0.8571),\n",
       " ('his', 0.90824),\n",
       " ('wife', 0.07147),\n",
       " ('.', 0.74825)]"
      ]
     },
     "execution_count": 111,
     "metadata": {},
     "output_type": "execute_result"
    }
   ],
   "source": [
    "text = \"gets under the skin of a man who has just lost his wife .\"\n",
    "get_words_impact(text)"
   ]
  },
  {
   "cell_type": "code",
   "execution_count": 112,
   "id": "e35e85b1-59be-48fd-bb4c-cba34bf77148",
   "metadata": {},
   "outputs": [
    {
     "data": {
      "text/plain": [
       "[('full_text', 0.69717),\n",
       " ('finds', 0.76927),\n",
       " ('a', 0.95714),\n",
       " ('way', 0.8065),\n",
       " ('to', 0.70071),\n",
       " ('tell', 0.50262),\n",
       " ('simple', 0.77711),\n",
       " ('story', 0.98655),\n",
       " (',', 0.82163),\n",
       " ('perhaps', 0.98012),\n",
       " ('the', 0.89097),\n",
       " ('simplest', 0.84839),\n",
       " ('of', 0.69717),\n",
       " ('all', 0.69717),\n",
       " ('in', 0.69717),\n",
       " ('that', 0.69717),\n",
       " ('seems', 0.69717),\n",
       " ('compelling', 0.69717),\n",
       " ('and', 0.69717),\n",
       " ('even', 0.69717),\n",
       " ('original', 0.69717),\n",
       " ('.', 0.69717)]"
      ]
     },
     "execution_count": 112,
     "metadata": {},
     "output_type": "execute_result"
    }
   ],
   "source": [
    "text = \"finds a way to tell a simple story , perhaps the simplest story of all , in a way that seems compelling and even original .\"\n",
    "get_words_impact(text)"
   ]
  }
 ],
 "metadata": {
  "kernelspec": {
   "display_name": "Python 3 (ipykernel)",
   "language": "python",
   "name": "python3"
  },
  "language_info": {
   "codemirror_mode": {
    "name": "ipython",
    "version": 3
   },
   "file_extension": ".py",
   "mimetype": "text/x-python",
   "name": "python",
   "nbconvert_exporter": "python",
   "pygments_lexer": "ipython3",
   "version": "3.10.14"
  }
 },
 "nbformat": 4,
 "nbformat_minor": 5
}
